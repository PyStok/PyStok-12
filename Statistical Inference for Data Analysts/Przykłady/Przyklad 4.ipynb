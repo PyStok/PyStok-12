{
 "cells": [
  {
   "cell_type": "markdown",
   "metadata": {},
   "source": [
    "Przykład 4\n",
    "======\n",
    "Znając wynik poprzedniego przykładu spróbujemy napisać klasyfikator, który na podstawie tego ile użytkownik spędza czasu na\n",
    "stronie, powie czy to jest prawdziwy klient, czy fraudster.\n",
    "\n",
    "Skorzystamy z naiwnego Bayesa.\n",
    "To czego szukamy to wielkości $P(F|t)$ oraz $P(C|t)$, czyli prawdopodobieństwo tego, że mamy do czynienia z fraudsterem/klientem biorąc pod uwagę to ile czasu spędził na stronie.\n",
    "To co mamy to $P(t|F)$ i $P(t|C)$. Te wielkości można wyznaczyć za pomocą znormalizowanych histogramów z poprzedniego rozkładu. Funkcja, wyznaczająca prawdowpodobieństwo będzie wyglądać w ten sposób:"
   ]
  },
  {
   "cell_type": "code",
   "execution_count": 1,
   "metadata": {
    "collapsed": true
   },
   "outputs": [],
   "source": [
    "%matplotlib inline\n",
    "import matplotlib.pyplot as plt\n",
    "import numpy as np\n",
    "import scipy.stats as ss\n",
    "dane = np.load(\"example3_data.npz\")\n",
    "frauds = dane['frauds']\n",
    "clients = dane['clients']\n",
    "def estimate_prob(t, dist, bins=1000):\n",
    "    vals, bins_ = np.histogram(dist, bins=bins, normed=True)\n",
    "    idx = np.searchsorted(bins_, t)\n",
    "    dx = bins_[1] - bins_[0]\n",
    "    return vals[idx]*dx"
   ]
  },
  {
   "cell_type": "markdown",
   "metadata": {},
   "source": [
    "Funkcja przyjmuje, że prawdopodobieństwo spędzenia takiego czasu na stronie jest równe polu powierzchni odpowiedniego binu (słupka) znormalizowanego histogrmu.\n",
    "\n",
    "Twierdzenie Bayesa pozwala wyznaczyć szukane prawdopodobieństwo: $P(F|t) = P(t|F)P(F)/P(t)$ oraz $P(C|t) = P(t|C)P(C)/P(t)$.\n",
    "Ponieważ interesuje nas tylko które prawdopodobieństwo jest większe, wyznaczanie $P(t)$ nie jest konieczne. Wielkości $P(C)$ oraz $P(F)$, zwane zaczątkami można albo estymować na podstawie danych, albo na podstawie wcześniejszej wiedzy (na przykład zakładając, że fraudsterzy to 5% całego ruchu)."
   ]
  },
  {
   "cell_type": "code",
   "execution_count": 6,
   "metadata": {
    "collapsed": false
   },
   "outputs": [
    {
     "name": "stdout",
     "output_type": "stream",
     "text": [
      "1257000.0\n",
      "1258000.0\n",
      "1259000.0\n",
      "1260000.0\n",
      "1261000.0\n",
      "1262000.0\n",
      "1263000.0\n",
      "1264000.0\n",
      "1265000.0\n",
      "1266000.0\n",
      "1473000.0\n",
      "1474000.0\n",
      "1475000.0\n",
      "1640000.0\n",
      "1641000.0\n",
      "1642000.0\n",
      "1643000.0\n",
      "1644000.0\n",
      "1645000.0\n",
      "1646000.0\n",
      "1647000.0\n",
      "1648000.0\n",
      "1649000.0\n",
      "1748000.0\n",
      "1749000.0\n",
      "1750000.0\n",
      "1751000.0\n",
      "1752000.0\n",
      "1753000.0\n",
      "1754000.0\n",
      "1755000.0\n",
      "1756000.0\n",
      "1757000.0\n",
      "1768000.0\n",
      "1769000.0\n",
      "1770000.0\n",
      "1771000.0\n",
      "1772000.0\n",
      "1773000.0\n",
      "1774000.0\n",
      "1775000.0\n",
      "1776000.0\n",
      "1777000.0\n",
      "1807000.0\n",
      "1808000.0\n",
      "1809000.0\n",
      "1810000.0\n",
      "1811000.0\n",
      "1812000.0\n",
      "1813000.0\n",
      "1814000.0\n",
      "1815000.0\n",
      "1816000.0\n",
      "1837000.0\n",
      "1838000.0\n",
      "1839000.0\n",
      "1840000.0\n",
      "1841000.0\n",
      "1842000.0\n",
      "1843000.0\n",
      "1844000.0\n",
      "1845000.0\n",
      "1846000.0\n",
      "1906000.0\n",
      "1907000.0\n",
      "1908000.0\n",
      "1909000.0\n",
      "1910000.0\n",
      "1911000.0\n",
      "1912000.0\n",
      "1913000.0\n",
      "1914000.0\n",
      "1931000.0\n",
      "1932000.0\n",
      "1933000.0\n",
      "1934000.0\n",
      "1955000.0\n",
      "1956000.0\n",
      "1957000.0\n",
      "1958000.0\n",
      "1959000.0\n",
      "1960000.0\n",
      "1961000.0\n",
      "1962000.0\n",
      "1963000.0\n",
      "1964000.0\n",
      "1965000.0\n",
      "1966000.0\n",
      "1967000.0\n",
      "1968000.0\n",
      "1969000.0\n",
      "1970000.0\n",
      "1971000.0\n",
      "1972000.0\n",
      "1973000.0\n",
      "95 1905\n"
     ]
    }
   ],
   "source": [
    "def bayes(t, distributions, bins):\n",
    "    p_t1 = estimate_prob(t, distributions[0], bins[0])\n",
    "    p_t2 = estimate_prob(t, distributions[1], bins[1])\n",
    "    N1 = len(distributions[0])\n",
    "    N2 = len(distributions[1])\n",
    "    p1 = N1/(N1 + N2)\n",
    "    p2 = 1 - p1\n",
    "    # 0 oznacza wybór pierwszej klasy, 1 oznacza wybór drugiej\n",
    "    return int(p_t1*p1 < p_t2*p2)\n",
    "\n",
    "#TEST\n",
    "# Sprwadzamy co wyznaczy klasyfikatro dla jakich czasow\n",
    "test_t = np.arange(0, 2e6, 1000)\n",
    "res = []\n",
    "for t in test_t:\n",
    "    res_ = bayes(t, (frauds, clients), (500, 500))\n",
    "    res.append(res_)\n",
    "    if not res_:\n",
    "        print(t)\n",
    "print(res.count(0), res.count(1))"
   ]
  },
  {
   "cell_type": "markdown",
   "metadata": {},
   "source": [
    "Jak widać klasyfikator nie sprawdza się zbyt dobrze. 0 oznacza, że klasyfikator wybrał klienta, 1 oznacza, że klasyfikator wybrał fraudstera."
   ]
  },
  {
   "cell_type": "code",
   "execution_count": null,
   "metadata": {
    "collapsed": true
   },
   "outputs": [],
   "source": []
  }
 ],
 "metadata": {
  "kernelspec": {
   "display_name": "Python 3",
   "language": "python",
   "name": "python3"
  },
  "language_info": {
   "codemirror_mode": {
    "name": "ipython",
    "version": 3
   },
   "file_extension": ".py",
   "mimetype": "text/x-python",
   "name": "python",
   "nbconvert_exporter": "python",
   "pygments_lexer": "ipython3",
   "version": "3.4.3"
  }
 },
 "nbformat": 4,
 "nbformat_minor": 0
}
