{
 "cells": [
  {
   "cell_type": "markdown",
   "metadata": {},
   "source": [
    "Dane do przykładu 1\n",
    "==========\n",
    "Najpierw importujemy potrzebne biblioteki. Numpy, scipy.stats oraz matplotlib do wizualizacji. Matplotlib jest zaimportowany w skróconej wersji pylab. Pierwsza linijka informuje notatnik, że obrazki mają wyświetlać się w przeglądarce."
   ]
  },
  {
   "cell_type": "code",
   "execution_count": 2,
   "metadata": {
    "collapsed": false
   },
   "outputs": [],
   "source": [
    "%matplotlib inline\n",
    "import numpy as np\n",
    "import pylab as py\n",
    "import scipy.stats as ss"
   ]
  },
  {
   "cell_type": "markdown",
   "metadata": {},
   "source": [
    "Dane od przykładu są zapisywane w formie tablicy numpy."
   ]
  },
  {
   "cell_type": "code",
   "execution_count": 3,
   "metadata": {
    "collapsed": true
   },
   "outputs": [],
   "source": [
    "x = np.array([796, 756, 827, 779, 787, 731, 847, 829, 794, 790, 831, 820, 822, 792, 767, 757, 777, 775, 799, 756, 849, 808, 800, 823, 798, 809, 783, 800, 848, 772, 853, 759, 745, 868, 713, 863, 819, 829, 799, 777, 785, 812, 877, 839, 783, 867, 875, 829, 818, 813, 763, 829, 812, 867, 790, 748, 822, 774, 900, 830, 781, 795, 825, 799, 795, 839, 840, 765, 781, 781, 797, 821, 852, 836, 811, 771, 800, 752, 776, 755, 798, 839, 821, 794, 846, 834, 825, 825, 830, 814, 839, 760, 786, 747, 803, 717, 801, 819, 789, 824, 835, 806, 858, 774, 848, 793, 826, 796, 798, 773, 779, 775, 779, 806, 768, 787, 788, 822, 843, 780])"
   ]
  },
  {
   "cell_type": "markdown",
   "metadata": {},
   "source": [
    "Można zobaczyć maksymalną i minimalną wartość"
   ]
  },
  {
   "cell_type": "code",
   "execution_count": 4,
   "metadata": {
    "collapsed": false
   },
   "outputs": [
    {
     "name": "stdout",
     "output_type": "stream",
     "text": [
      "900 713\n"
     ]
    }
   ],
   "source": [
    "print(x.max(), x.min())"
   ]
  },
  {
   "cell_type": "markdown",
   "metadata": {},
   "source": [
    "Histogram danych"
   ]
  },
  {
   "cell_type": "code",
   "execution_count": 5,
   "metadata": {
    "collapsed": false
   },
   "outputs": [
    {
     "data": {
      "image/png": "[encoded data removed]",
      "text/plain": [
       "<matplotlib.figure.Figure at 0x7fa658135cc0>"
      ]
     },
     "metadata": {},
     "output_type": "display_data"
    }
   ],
   "source": [
    "py.hist(x)\n",
    "py.show()"
   ]
  },
  {
   "cell_type": "markdown",
   "metadata": {},
   "source": [
    "Wykrywanie anomalii\n",
    "-------------------\n",
    "Zakładamy rozkład Poissona. Jakie jest prawdopodobieństwo otrzymania wartości 800, 850, 900 (lub większej)? Czy da się określić wartość graniczną?\n",
    "\n",
    "Najpierw dopasowujemy parametr rozkładu Poissona $\\mu$ do naszych danych. W tym przypadku to po prostu średnia."
   ]
  },
  {
   "cell_type": "code",
   "execution_count": 6,
   "metadata": {
    "collapsed": false
   },
   "outputs": [],
   "source": [
    "mu = x.mean()"
   ]
  },
  {
   "cell_type": "markdown",
   "metadata": {},
   "source": [
    "Mając dystrybucję, można sprawdzić jakie jest prawdopodobieństwo otrzymania 800, 850, 950 (lub wartości większej). Jeśli będzie bardzo małe, powiedzmy mniejsze niż 5%, to przyjmujemy, że wielkość nie pochodzi z tego procesu. Co prawda wciąż jest przynajmniej 5% szansy, że wartość pochodzi z tego rozkładu, ale zakładamy, że ryzyko błędu (tzw. błąd I rodzaju - odrzucenie hipotezy zerowej, kiedy jest ona prawdziwa) jest do zaakceptowania."
   ]
  },
  {
   "cell_type": "code",
   "execution_count": 7,
   "metadata": {
    "collapsed": false
   },
   "outputs": [
    {
     "name": "stdout",
     "output_type": "stream",
     "text": [
      "0.548801852271 0.0520525558027 0.000420280684067\n"
     ]
    }
   ],
   "source": [
    "p_800 = 1 - ss.poisson.cdf(800, mu)\n",
    "p_850 = 1 - ss.poisson.cdf(850, mu)\n",
    "p_900 = 1 - ss.poisson.cdf(900, mu)\n",
    "print(p_800, p_850, p_900)"
   ]
  },
  {
   "cell_type": "markdown",
   "metadata": {},
   "source": [
    "Alternatywnie można znaleźć wartość graniczną poniżej której prawdopodobieństwo zawsze będzie mniejsze niż 5%"
   ]
  },
  {
   "cell_type": "code",
   "execution_count": 8,
   "metadata": {
    "collapsed": false
   },
   "outputs": [
    {
     "name": "stdout",
     "output_type": "stream",
     "text": [
      "851.0\n"
     ]
    }
   ],
   "source": [
    "pval = ss.poisson.ppf(0.95, mu)\n",
    "print(pval)"
   ]
  },
  {
   "cell_type": "markdown",
   "metadata": {},
   "source": [
    "Za każdym razem, gdy sprawdzana wielkość będzie większa niż 851, będziemy mogli ją odrzucić na 5% poziomie istotności."
   ]
  },
  {
   "cell_type": "code",
   "execution_count": null,
   "metadata": {
    "collapsed": true
   },
   "outputs": [],
   "source": []
  }
 ],
 "metadata": {
  "kernelspec": {
   "display_name": "Python 3",
   "language": "python",
   "name": "python3"
  },
  "language_info": {
   "codemirror_mode": {
    "name": "ipython",
    "version": 3
   },
   "file_extension": ".py",
   "mimetype": "text/x-python",
   "name": "python",
   "nbconvert_exporter": "python",
   "pygments_lexer": "ipython3",
   "version": "3.4.3"
  }
 },
 "nbformat": 4,
 "nbformat_minor": 0
}
