{
 "cells": [
  {
   "cell_type": "markdown",
   "metadata": {},
   "source": [
    "Przykład 3\n",
    "======\n",
    "Mamy dwia zbiory danych: czas, jaki na stronie spędzili (F)raudsterzy i prawdziwi (C)lienci. Czy mamy do czynienia z dwoma procesami? Innymi słowy, czy dystrybucje, które generują te dane są różne?\n",
    "\n",
    "Zaczynamy od wczytania i narysowania histogramów danych."
   ]
  },
  {
   "cell_type": "code",
   "execution_count": 8,
   "metadata": {
    "collapsed": false
   },
   "outputs": [],
   "source": [
    "%matplotlib inline\n",
    "import numpy as np\n",
    "import matplotlib.pyplot as plt\n",
    "import scipy.stats as ss"
   ]
  },
  {
   "cell_type": "code",
   "execution_count": 7,
   "metadata": {
    "collapsed": false
   },
   "outputs": [
    {
     "name": "stdout",
     "output_type": "stream",
     "text": [
      "['clients', 'frauds']\n"
     ]
    }
   ],
   "source": [
    "dane = np.load(\"example3_data.npz\")\n",
    "print(dane.files)"
   ]
  },
  {
   "cell_type": "code",
   "execution_count": 14,
   "metadata": {
    "collapsed": false
   },
   "outputs": [
    {
     "data": {
      "text/plain": [
       "<matplotlib.text.Text at 0x7f54fadff0b8>"
      ]
     },
     "execution_count": 14,
     "metadata": {},
     "output_type": "execute_result"
    },
    {
     "data": {
      "image/png": "[encoded data removed]",
      "text/plain": [
       "<matplotlib.figure.Figure at 0x7f54fa0fc630>"
      ]
     },
     "metadata": {},
     "output_type": "display_data"
    }
   ],
   "source": [
    "clients = dane['clients']\n",
    "frauds = dane['frauds']\n",
    "fig, (ax1, ax2) = plt.subplots(2, sharex=True);\n",
    "n, b, p = ax1.hist(clients, bins=500);\n",
    "ax2.hist(frauds, bins=b);\n",
    "ax2.set_xlabel(\"Czas na stronie (ms)\");\n",
    "ax1.set_ylabel(u\"# zliczen\");"
   ]
  },
  {
   "cell_type": "markdown",
   "metadata": {},
   "source": [
    "Na oko się różnią. Czy można to jakoś sprawdzić? Można skorzystać metodologii testowania hipotez statystycznych (podobnie jak w przykładzie 1). Wpierw zakładamy, że dane pochodzą z tej samej dystrybucji. Liczymu prawdopodobieństwo otrzymania jakiejś statystyki (na przykład różnicy średnich, median...) przy tym założeniu. Jeśli to prawdopodobieństwo jest małe, to przyjmujemy, że założona hipoteza jest nieprawdziwa. W tym przypadku, że dane pochodzą z różnych dystrybucji.\n",
    "\n",
    "Moduł `scipy.stats` dostarcza całkiem sporej liczby testów, które wykonują powyższą procedurę za nas. Jednym z nich jest test Manna-Whiteneya."
   ]
  },
  {
   "cell_type": "code",
   "execution_count": 17,
   "metadata": {
    "collapsed": false
   },
   "outputs": [
    {
     "name": "stdout",
     "output_type": "stream",
     "text": [
      "(64124991.0, 4.7101775814124725e-51)\n"
     ]
    }
   ],
   "source": [
    "result = ss.mannwhitneyu(frauds, clients)\n",
    "print(result)"
   ]
  },
  {
   "cell_type": "markdown",
   "metadata": {},
   "source": [
    "Pierwsza wielkość, to wartość statystyki testu, druga to prawdopodobieństo otrzymania tej statystkyki, zakładając hipotezę, że dane pochodzą z tej samej dystrybucji."
   ]
  },
  {
   "cell_type": "markdown",
   "metadata": {},
   "source": [
    "To samo można zrobić samemu, znowu korzystająć z metody bootstrap. Wpierw liczymy statystykę początkową rozkładów. Niech to będzie różnica median. Łączymy oba wektory w jeden (łączymy dystrybucje; przecież i tak zakładamy, że są takie same) i losujemy, ze zwracaniem, dwa nowe wektory. Pierwszy ma długość wektora klientów, drugi ma długość wektora fraudsterów. Liczymy statystykę tych dwóch, nowych wektorów. Tą procedurę powtarzamy `n_rep` razy.\n",
    "\n",
    "Wynikiem tej metody jest wektor statystyk wyznaczonych przy zadanej hipotezie zerowej. Spodziewamy się, że jeśli to rzeczywiście są dane z tego samego rozkładu, to statystyka, którą wyliczyliśmy na samym początku, nie będzie niczym niezwykłym. Liczymy więc prawdopodobieństwo otrzymania takiej, lub większej statystki z bootstapowanego wektora."
   ]
  },
  {
   "cell_type": "code",
   "execution_count": 20,
   "metadata": {
    "collapsed": false
   },
   "outputs": [
    {
     "name": "stdout",
     "output_type": "stream",
     "text": [
      "0.0\n"
     ]
    }
   ],
   "source": [
    "Nf = len(frauds)\n",
    "Nc = len(clients)\n",
    "n_rep = 1000\n",
    "init_stat = np.abs(np.median(frauds) - np.median(clients))\n",
    "stats = np.zeros(n_rep)\n",
    "big_vector = np.concatenate((frauds, clients))\n",
    "N = len(big_vector)\n",
    "for i in range(n_rep):\n",
    "    new_frauds = np.random.choice(big_vector, Nf, replace=True)\n",
    "    new_clients = np.random.choice(big_vector, Nc, replace=True)\n",
    "    stats[i] = np.abs(np.median(new_frauds) - np.median(new_clients))\n",
    "pval = np.sum(stats >= init_stat)/n_rep\n",
    "print(pval)\n"
   ]
  },
  {
   "cell_type": "markdown",
   "metadata": {},
   "source": [
    "Zerowa wielkość `pval` oznacza, że morzemy odrzucić hipotezę zerową."
   ]
  },
  {
   "cell_type": "code",
   "execution_count": null,
   "metadata": {
    "collapsed": true
   },
   "outputs": [],
   "source": []
  }
 ],
 "metadata": {
  "kernelspec": {
   "display_name": "Python 3",
   "language": "python",
   "name": "python3"
  },
  "language_info": {
   "codemirror_mode": {
    "name": "ipython",
    "version": 3
   },
   "file_extension": ".py",
   "mimetype": "text/x-python",
   "name": "python",
   "nbconvert_exporter": "python",
   "pygments_lexer": "ipython3",
   "version": "3.4.3"
  }
 },
 "nbformat": 4,
 "nbformat_minor": 0
}
